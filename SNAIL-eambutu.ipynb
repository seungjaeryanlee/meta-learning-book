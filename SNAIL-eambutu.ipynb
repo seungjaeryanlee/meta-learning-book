{
 "cells": [
  {
   "cell_type": "markdown",
   "metadata": {},
   "source": [
    "# Simple Neural Attentive Meta-Learner (SNAIL)"
   ]
  },
  {
   "cell_type": "markdown",
   "metadata": {},
   "source": [
    "TODO: Allow GPU"
   ]
  },
  {
   "cell_type": "markdown",
   "metadata": {},
   "source": [
    "TODO: Fix multiprocessing warning from num_workers in torch"
   ]
  },
  {
   "cell_type": "code",
   "execution_count": 1,
   "metadata": {},
   "outputs": [],
   "source": [
    "# Ignore InterpolationMode warnings from torchmeta\n",
    "import warnings\n",
    "warnings.filterwarnings(\"ignore\")"
   ]
  },
  {
   "cell_type": "markdown",
   "metadata": {
    "tags": []
   },
   "source": [
    "## Imports"
   ]
  },
  {
   "cell_type": "code",
   "execution_count": 2,
   "metadata": {},
   "outputs": [],
   "source": [
    "from collections import OrderedDict\n",
    "import math\n",
    "import os\n",
    "import time\n",
    "\n",
    "import matplotlib.pyplot as plt\n",
    "import numpy as np\n",
    "\n",
    "import torch\n",
    "import torch.nn as nn\n",
    "import torch.optim as optim\n",
    "import torch.nn.functional as F\n",
    "\n",
    "from torchmeta.datasets.helpers import omniglot\n",
    "from torchmeta.utils.data import BatchMetaDataLoader"
   ]
  },
  {
   "cell_type": "markdown",
   "metadata": {
    "tags": []
   },
   "source": [
    "## Classes"
   ]
  },
  {
   "cell_type": "markdown",
   "metadata": {
    "tags": [],
    "toc-hr-collapsed": true
   },
   "source": [
    "### Embedding Network"
   ]
  },
  {
   "cell_type": "markdown",
   "metadata": {},
   "source": [
    "![](images/omniglot_embedding.png)"
   ]
  },
  {
   "cell_type": "code",
   "execution_count": 3,
   "metadata": {},
   "outputs": [],
   "source": [
    "class EmbeddingNet(nn.Module):\n",
    "    def __init__(self, x_dim=1, hid_dim=64, z_dim=64):\n",
    "        super(EmbeddingNet, self).__init__()\n",
    "        self.encoder = nn.Sequential(\n",
    "            EmbeddingNet._conv_block(x_dim, hid_dim),\n",
    "            EmbeddingNet._conv_block(hid_dim, hid_dim),\n",
    "            EmbeddingNet._conv_block(hid_dim, hid_dim),\n",
    "            EmbeddingNet._conv_block(hid_dim, z_dim),\n",
    "        )\n",
    "\n",
    "    @staticmethod\n",
    "    def _conv_block(in_channels, out_channels):\n",
    "        return nn.Sequential(\n",
    "            nn.Conv2d(in_channels, out_channels, 3, padding=1),\n",
    "            nn.BatchNorm2d(out_channels, momentum=1),\n",
    "            nn.ReLU(),\n",
    "            nn.MaxPool2d(2),\n",
    "        )\n",
    "\n",
    "    def forward(self, x):\n",
    "        x = self.encoder(x)\n",
    "        out = x.view(x.size(0), -1)\n",
    "\n",
    "        return out"
   ]
  },
  {
   "cell_type": "markdown",
   "metadata": {
    "tags": [],
    "toc-hr-collapsed": true
   },
   "source": [
    "### SNAIL Architecture"
   ]
  },
  {
   "cell_type": "markdown",
   "metadata": {
    "tags": [],
    "toc-hr-collapsed": true
   },
   "source": [
    "#### Causal Convolution"
   ]
  },
  {
   "cell_type": "code",
   "execution_count": 4,
   "metadata": {},
   "outputs": [],
   "source": [
    "# TODO: Use this instead: https://github.com/pytorch/pytorch/issues/1333#issuecomment-400338207 ?\n",
    "class CasualConv1d(nn.Module):\n",
    "    def __init__(self, in_channels, out_channels, kernel_size, stride=1, dilation=1, groups=1, bias=True):\n",
    "        super(CasualConv1d, self).__init__()\n",
    "        self.dilation = dilation\n",
    "        padding = dilation * (kernel_size - 1)\n",
    "        self.conv1d = nn.Conv1d(in_channels, out_channels, kernel_size, stride, padding, dilation, groups, bias)\n",
    "\n",
    "    def forward(self, input_):\n",
    "        # Takes something of shape (N, in_channels, T), returns (N, out_channels, T)\n",
    "        out = self.conv1d(input_)\n",
    "        return out[:, :, :-self.dilation] # TODO: make this correct for different strides/padding"
   ]
  },
  {
   "cell_type": "markdown",
   "metadata": {
    "tags": [],
    "toc-hr-collapsed": true
   },
   "source": [
    "#### Dense Block"
   ]
  },
  {
   "cell_type": "markdown",
   "metadata": {},
   "source": [
    "![](images/snail_dense_block.png)"
   ]
  },
  {
   "cell_type": "code",
   "execution_count": 5,
   "metadata": {},
   "outputs": [],
   "source": [
    "class DenseBlock(nn.Module):\n",
    "    def __init__(self, in_channels, dilation, filters, kernel_size=2):\n",
    "        super(DenseBlock, self).__init__()\n",
    "        self.causal_conv1 = CasualConv1d(in_channels, filters, kernel_size, dilation=dilation)\n",
    "        self.causal_conv2 = CasualConv1d(in_channels, filters, kernel_size, dilation=dilation)\n",
    "\n",
    "    def forward(self, input_):\n",
    "        # input is dimensions (N, in_channels, T)\n",
    "        xf = self.causal_conv1(input_)\n",
    "        xg = self.causal_conv2(input_)\n",
    "        activations = torch.tanh(xf) * torch.sigmoid(xg) # shape: (N, filters, T)\n",
    "\n",
    "        return torch.cat((input_, activations), dim=1)"
   ]
  },
  {
   "cell_type": "markdown",
   "metadata": {
    "tags": [],
    "toc-hr-collapsed": true
   },
   "source": [
    "#### TC Block"
   ]
  },
  {
   "cell_type": "markdown",
   "metadata": {},
   "source": [
    "![](images/snail_tc_block.png)"
   ]
  },
  {
   "cell_type": "code",
   "execution_count": 6,
   "metadata": {},
   "outputs": [],
   "source": [
    "class TCBlock(nn.Module):\n",
    "    def __init__(self, in_channels, seq_length, filters):\n",
    "        super(TCBlock, self).__init__()\n",
    "        self.dense_blocks = nn.ModuleList([DenseBlock(in_channels + i * filters, 2 ** (i+1), filters)\n",
    "                                           for i in range(int(math.ceil(math.log(seq_length, 2))))])\n",
    "\n",
    "    def forward(self, input_):\n",
    "        # input is dimensions (N, T, in_channels)\n",
    "        input_ = torch.transpose(input_, 1, 2)\n",
    "        for block in self.dense_blocks:\n",
    "            input_ = block(input_)\n",
    "\n",
    "        return torch.transpose(input_, 1, 2)"
   ]
  },
  {
   "cell_type": "markdown",
   "metadata": {
    "tags": [],
    "toc-hr-collapsed": true
   },
   "source": [
    "#### Attention Block"
   ]
  },
  {
   "cell_type": "markdown",
   "metadata": {},
   "source": [
    "![](images/snail_attention_block.png)"
   ]
  },
  {
   "cell_type": "code",
   "execution_count": 7,
   "metadata": {},
   "outputs": [],
   "source": [
    "class AttentionBlock(nn.Module):\n",
    "    def __init__(self, in_channels, key_size, value_size):\n",
    "        super(AttentionBlock, self).__init__()\n",
    "        self.query_layer = nn.Linear(in_channels, key_size)\n",
    "        self.keys_layer = nn.Linear(in_channels, key_size)\n",
    "        self.values_layer = nn.Linear(in_channels, value_size)\n",
    "        self.sqrt_key_size = math.sqrt(key_size)\n",
    "        self.key_size = key_size\n",
    "\n",
    "    @staticmethod\n",
    "    def CausallyMaskedSoftmax(logits, key_size):\n",
    "        seq_len = logits.shape[1]\n",
    "        mask = np.array([[i > j for i in range(seq_len)] for j in range(seq_len)])\n",
    "        mask = torch.BoolTensor(mask)\n",
    "        # mask = torch.BoolTensor(mask).cuda()\n",
    "        logits = logits.data.masked_fill(mask, -float('inf'))\n",
    "\n",
    "        return F.softmax(logits / math.sqrt(key_size), dim=1)\n",
    "\n",
    "    def forward(self, input_):\n",
    "        # input is dim (N, T, in_channels) where N is the batch_size, and T is the sequence length\n",
    "        keys = self.keys_layer(input_) # shape: (N, T, key_size)\n",
    "        query = self.query_layer(input_) # shape: (N, T, key_size)\n",
    "        logits = torch.bmm(query, torch.transpose(keys, 1, 2)) # shape: (N, T, T)\n",
    "        probs = AttentionBlock.CausallyMaskedSoftmax(logits, self.key_size) # shape: (N, T, T), broadcasting over any slice [:, x, :], each row of the matrix\n",
    "\n",
    "        values = self.values_layer(input_) # shape: (N, T, value_size)\n",
    "        read = torch.bmm(probs, values) # shape: (N, T, value_size)\n",
    "\n",
    "        return torch.cat((input_, read), dim=2) # shape: (N, T, in_channels + value_size)"
   ]
  },
  {
   "cell_type": "markdown",
   "metadata": {
    "tags": [],
    "toc-hr-collapsed": true
   },
   "source": [
    "### Full Network"
   ]
  },
  {
   "cell_type": "markdown",
   "metadata": {},
   "source": [
    "![](images/snail_architecture.png)"
   ]
  },
  {
   "cell_type": "code",
   "execution_count": 8,
   "metadata": {},
   "outputs": [],
   "source": [
    "class SNAIL(nn.Module):\n",
    "    def __init__(self, N, K):\n",
    "        super(SNAIL, self).__init__()\n",
    "\n",
    "        self.N, self.K = N, K # N-way, K-shot\n",
    "\n",
    "        self.encoder = EmbeddingNet()\n",
    "        num_channels = 64 + N\n",
    "        num_filters = int(math.ceil(math.log(N * K + 1, 2)))\n",
    "        self.attention1 = AttentionBlock(num_channels, 64, 32)\n",
    "        num_channels += 32\n",
    "        self.tc1 = TCBlock(num_channels, N * K + 1, 128)\n",
    "        num_channels += num_filters * 128\n",
    "        self.attention2 = AttentionBlock(num_channels, 256, 128)\n",
    "        num_channels += 128\n",
    "        self.tc2 = TCBlock(num_channels, N * K + 1, 128)\n",
    "        num_channels += num_filters * 128\n",
    "        self.attention3 = AttentionBlock(num_channels, 512, 256)\n",
    "        num_channels += 256\n",
    "        self.fc = nn.Linear(num_channels, N)\n",
    "\n",
    "    def forward(self, input, labels):\n",
    "        x = self.encoder(input)\n",
    "        batch_size = int(labels.size()[0] / (self.N * self.K + 1))\n",
    "\n",
    "        # TODO: Maybe move this zeroing to process_torchmeta_batch() at train.py\n",
    "        last_idxs = [(i + 1) * (self.N * self.K + 1) - 1 for i in range(batch_size)]\n",
    "#         labels[last_idxs] = torch.Tensor(np.zeros((batch_size, labels.size()[1]))).cuda()\n",
    "        labels[last_idxs] = torch.Tensor(np.zeros((batch_size, labels.size()[1])))\n",
    "\n",
    "        x = torch.cat((x, labels), 1)\n",
    "        x = x.view((batch_size, self.N * self.K + 1, -1))\n",
    "        x = self.attention1(x)\n",
    "        x = self.tc1(x)\n",
    "        x = self.attention2(x)\n",
    "        x = self.tc2(x)\n",
    "        x = self.attention3(x)\n",
    "        x = self.fc(x)\n",
    "        return x"
   ]
  },
  {
   "cell_type": "markdown",
   "metadata": {
    "tags": [],
    "toc-hr-collapsed": true
   },
   "source": [
    "## Helper Functions"
   ]
  },
  {
   "cell_type": "code",
   "execution_count": 9,
   "metadata": {},
   "outputs": [],
   "source": [
    "# TODO: Improve parameter names\n",
    "def get_acc(last_model, last_targets):\n",
    "    _, preds = last_model.max(1)\n",
    "    acc = torch.eq(preds, last_targets).float().mean()\n",
    "    return acc.item()"
   ]
  },
  {
   "cell_type": "code",
   "execution_count": 10,
   "metadata": {},
   "outputs": [],
   "source": [
    "# TODO: Update docstring\n",
    "def process_torchmeta_batch(batch, NUM_CLS, NUM_SAMPLES):\n",
    "    \"\"\"\n",
    "    Process batch from torchmeta dataset for the SNAIL model\n",
    "\n",
    "    Parameters\n",
    "    ----------\n",
    "    batch : dict\n",
    "        A dictionary given by the torchmeta dataset\n",
    "    options : SimpleNamespace\n",
    "        A namespace with configuration details.\n",
    "\n",
    "    Returns\n",
    "    -------\n",
    "    input_images : torch.tensor\n",
    "        Input images to the SNAIL model of shape (batch_size*(N*K+1), img_channels, img_height,\n",
    "        img_width) where N and K denote the same variables as in the N-way K-shot problem.\n",
    "    input_onehot_labels : torch.tensor\n",
    "        Input one-hot labels to the SNAIL model of shape (batch_size*(N*K+1), N) where N and K\n",
    "        denote the same variables as in the N-way K-shot problem. The last label for each (N*K+1)\n",
    "        is not used since it is the target label.\n",
    "    target_labels : torch.tensor\n",
    "        Test set labels to evaluate the SNAIL model by comparing with its outputs. Has shape\n",
    "        (batch_size).\n",
    "\n",
    "    \"\"\"\n",
    "    train_inputs, train_labels = batch[\"train\"]\n",
    "    test_inputs, test_labels = batch[\"test\"]\n",
    "\n",
    "    # Select one image from N images in the test set\n",
    "    chosen_indices = torch.randint(test_inputs.shape[1], size=(test_inputs.shape[0],))\n",
    "    chosen_test_inputs = test_inputs[torch.arange(test_inputs.shape[0]), chosen_indices, :, :, :].unsqueeze(1)\n",
    "    chosen_test_labels = test_labels[torch.arange(test_labels.shape[0]), chosen_indices].unsqueeze(1)\n",
    "\n",
    "    # Concatenate train and test set for SNAIL-style input images and labels\n",
    "    input_images = torch.cat((train_inputs, chosen_test_inputs), dim=1).reshape((-1, *train_inputs.shape[2:]))\n",
    "    input_labels = torch.cat((train_labels, chosen_test_labels), dim=1).reshape((-1, *train_labels.shape[2:]))\n",
    "\n",
    "    # Convert labels to one-hot\n",
    "    input_onehot_labels = F.one_hot(input_labels).float()\n",
    "\n",
    "    # Separate out target labels\n",
    "    target_labels = input_labels[::(NUM_CLS * NUM_SAMPLES + 1)].long()\n",
    "\n",
    "    # Move to correct device\n",
    "#     if options.cuda:\n",
    "#         input_images, input_onehot_labels = input_images.cuda(), input_onehot_labels.cuda()\n",
    "#         target_labels = target_labels.cuda()\n",
    "\n",
    "    return input_images, input_onehot_labels, target_labels"
   ]
  },
  {
   "cell_type": "markdown",
   "metadata": {
    "tags": []
   },
   "source": [
    "## Hyperparameters"
   ]
  },
  {
   "cell_type": "code",
   "execution_count": 11,
   "metadata": {},
   "outputs": [],
   "source": [
    "NUM_CLS = 5     # N-way\n",
    "NUM_SAMPLES = 1 # K-shot"
   ]
  },
  {
   "cell_type": "code",
   "execution_count": 12,
   "metadata": {},
   "outputs": [],
   "source": [
    "N_TRAIN_EPISODES = 1000\n",
    "N_TEST_EPISODES = 100\n",
    "\n",
    "TRAIN_BATCH_SIZE = 32\n",
    "VAL_BATCH_SIZE = 32\n",
    "TEST_BATCH_SIZE = 32"
   ]
  },
  {
   "cell_type": "code",
   "execution_count": 13,
   "metadata": {},
   "outputs": [],
   "source": [
    "ADAM_LR = 1e-4"
   ]
  },
  {
   "cell_type": "code",
   "execution_count": 14,
   "metadata": {},
   "outputs": [],
   "source": [
    "timestamp = int(time.time())\n",
    "OUTPUT_DIR = f\"models/snail/{timestamp}\"\n",
    "os.makedirs(OUTPUT_DIR, exist_ok=True)"
   ]
  },
  {
   "cell_type": "code",
   "execution_count": 15,
   "metadata": {},
   "outputs": [],
   "source": [
    "USE_CUDA = torch.cuda.is_available()"
   ]
  },
  {
   "cell_type": "markdown",
   "metadata": {},
   "source": [
    "## Omniglot"
   ]
  },
  {
   "cell_type": "code",
   "execution_count": 16,
   "metadata": {},
   "outputs": [],
   "source": [
    "# Setup dataset\n",
    "# TODO: Data is augmented like Santoro et al. (2016)\n",
    "train_dataset = omniglot(\"data\", ways=NUM_CLS, shots=NUM_SAMPLES, test_shots=NUM_SAMPLES, meta_train=True, download=True)\n",
    "train_dataloader = BatchMetaDataLoader(train_dataset, batch_size=TRAIN_BATCH_SIZE, num_workers=4)\n",
    "val_dataset = omniglot(\"data\", ways=NUM_CLS, shots=NUM_SAMPLES, test_shots=NUM_SAMPLES, meta_val=True, download=True)\n",
    "val_dataloader = BatchMetaDataLoader(val_dataset, batch_size=VAL_BATCH_SIZE, num_workers=4)\n",
    "test_dataset = omniglot(\"data\", ways=NUM_CLS, shots=NUM_SAMPLES, test_shots=NUM_SAMPLES, meta_test=True, download=True)\n",
    "test_dataloader = BatchMetaDataLoader(test_dataset, batch_size=TEST_BATCH_SIZE, num_workers=4)\n",
    "# Setup model\n",
    "model = SNAIL(NUM_CLS, NUM_SAMPLES)\n",
    "# model = model.cuda() if options.cuda else model\n",
    "# Setup optimizer\n",
    "optimizer = optim.Adam(params=model.parameters(), lr=ADAM_LR)"
   ]
  },
  {
   "cell_type": "markdown",
   "metadata": {
    "tags": []
   },
   "source": [
    "## Loop"
   ]
  },
  {
   "cell_type": "markdown",
   "metadata": {},
   "source": [
    "Main script for training SNAIL on Omniglot."
   ]
  },
  {
   "cell_type": "code",
   "execution_count": 17,
   "metadata": {},
   "outputs": [],
   "source": [
    "def train_one_episode(model, optimizer, batch, NUM_CLS, NUM_SAMPLES):\n",
    "    input_images, input_onehot_labels, target_labels = process_torchmeta_batch(batch, NUM_CLS, NUM_SAMPLES)\n",
    "    predicted_labels = model(input_images, input_onehot_labels)[:, -1, :]\n",
    "    loss = F.cross_entropy(predicted_labels, target_labels)\n",
    "    acc = get_acc(predicted_labels, target_labels)\n",
    "\n",
    "    optimizer.zero_grad()\n",
    "    loss.backward()\n",
    "    optimizer.step()\n",
    "\n",
    "    return loss.item(), acc"
   ]
  },
  {
   "cell_type": "code",
   "execution_count": 18,
   "metadata": {},
   "outputs": [],
   "source": [
    "def test_one_episode(model, batch, NUM_CLS, NUM_SAMPLES):\n",
    "    input_images, input_onehot_labels, target_labels = process_torchmeta_batch(batch, NUM_CLS, NUM_SAMPLES)\n",
    "    predicted_labels = model(input_images, input_onehot_labels)[:, -1, :]\n",
    "    loss = F.cross_entropy(predicted_labels, target_labels)\n",
    "    acc = get_acc(predicted_labels, target_labels)\n",
    "\n",
    "    return loss.item(), acc"
   ]
  },
  {
   "cell_type": "markdown",
   "metadata": {},
   "source": [
    "## Train Model"
   ]
  },
  {
   "cell_type": "markdown",
   "metadata": {},
   "source": [
    "TODO: Save best and last model"
   ]
  },
  {
   "cell_type": "code",
   "execution_count": 19,
   "metadata": {},
   "outputs": [
    {
     "name": "stdout",
     "output_type": "stream",
     "text": [
      "| EPISODE |   META-TRAIN    |    META-VAL     | ELAPSED |\n",
      "|         | LOSS   |  ACC   |  LOSS  |  ACC   |         |\n",
      "|       0 | 1.7180 | 0.1250 | 1.6610 | 0.1562 |      2s |\n",
      "|      50 | 1.6236 | 0.1250 | 1.6735 | 0.0312 |     38s |\n",
      "|     100 | 1.5755 | 0.2500 | 1.6245 | 0.1875 |     73s |\n",
      "|     150 | 1.5580 | 0.2500 | 1.6528 | 0.1562 |    109s |\n",
      "|     200 | 1.6233 | 0.2188 | 1.5738 | 0.3438 |    145s |\n",
      "|     250 | 1.5351 | 0.5312 | 1.5647 | 0.3750 |    180s |\n",
      "|     300 | 1.5151 | 0.3750 | 1.5476 | 0.2812 |    216s |\n",
      "|     350 | 1.3899 | 0.6250 | 1.3976 | 0.6562 |    251s |\n",
      "|     400 | 0.9311 | 0.8750 | 0.9442 | 0.9688 |    286s |\n",
      "|     450 | 0.2383 | 1.0000 | 0.2629 | 1.0000 |    322s |\n",
      "|     500 | 0.0957 | 1.0000 | 0.0915 | 1.0000 |    357s |\n",
      "|     550 | 0.0452 | 1.0000 | 0.0491 | 1.0000 |    392s |\n",
      "|     600 | 0.0293 | 1.0000 | 0.0288 | 1.0000 |    428s |\n",
      "|     650 | 0.0217 | 1.0000 | 0.0207 | 1.0000 |    463s |\n",
      "|     700 | 0.0162 | 1.0000 | 0.0158 | 1.0000 |    498s |\n",
      "|     750 | 0.0118 | 1.0000 | 0.0123 | 1.0000 |    534s |\n",
      "|     800 | 0.0097 | 1.0000 | 0.0093 | 1.0000 |    569s |\n",
      "|     850 | 0.0077 | 1.0000 | 0.0078 | 1.0000 |    604s |\n",
      "|     900 | 0.0071 | 1.0000 | 0.0069 | 1.0000 |    639s |\n",
      "|     950 | 0.0057 | 1.0000 | 0.0060 | 1.0000 |    675s |\n"
     ]
    }
   ],
   "source": [
    "print(\"| EPISODE |   META-TRAIN    |    META-VAL     | ELAPSED |\")\n",
    "print(\"|         | LOSS   |  ACC   |  LOSS  |  ACC   |         |\")\n",
    "train_start_time = time.time()\n",
    "train_loss_per_ep, train_acc_per_ep = [], []\n",
    "val_loss_per_ep, val_acc_per_ep = [], []\n",
    "for episode_i, (train_batch, val_batch) in enumerate(zip(train_dataloader, val_dataloader)):\n",
    "    if episode_i >= N_TRAIN_EPISODES: break\n",
    "\n",
    "    # Training phase\n",
    "    model.train()\n",
    "    train_loss, train_acc = train_one_episode(model, optimizer, train_batch, NUM_CLS, NUM_SAMPLES)\n",
    "    train_loss_per_ep.append(train_loss)\n",
    "    train_acc_per_ep.append(train_acc)\n",
    "\n",
    "    # Validation phase\n",
    "    model.eval()\n",
    "    val_loss, val_acc = test_one_episode(model, val_batch, NUM_CLS, NUM_SAMPLES)\n",
    "    val_loss_per_ep.append(val_loss)\n",
    "    val_acc_per_ep.append(val_acc)\n",
    "\n",
    "    if episode_i % 50 == 0:\n",
    "        print(f\"| {episode_i:7d} | {train_loss:.4f} | {train_acc:.4f} | {val_loss:.4f} | {val_acc:.4f} | {int(time.time() - train_start_time): 6d}s |\")"
   ]
  },
  {
   "cell_type": "code",
   "execution_count": 20,
   "metadata": {},
   "outputs": [
    {
     "data": {
      "image/png": "[encoded data removed]",
      "text/plain": [
       "<Figure size 1008x432 with 2 Axes>"
      ]
     },
     "metadata": {
      "needs_background": "light"
     },
     "output_type": "display_data"
    }
   ],
   "source": [
    "fig, axs = plt.subplots(1, 2, figsize=(14, 6))\n",
    "\n",
    "axs[0].plot(train_loss_per_ep, label=\"train_loss\")\n",
    "axs[0].plot(val_loss_per_ep, label=\"test_loss\")\n",
    "axs[0].set_title(\"Cross Entropy Loss\")\n",
    "axs[0].legend()\n",
    "\n",
    "axs[1].plot(train_acc_per_ep, label=\"train_acc\")\n",
    "axs[1].plot(val_acc_per_ep, label=\"test_acc\")\n",
    "axs[1].set_title(\"Accuracy\")\n",
    "axs[1].legend()\n",
    "\n",
    "fig.show()"
   ]
  },
  {
   "cell_type": "markdown",
   "metadata": {},
   "source": [
    "## Test Model"
   ]
  },
  {
   "cell_type": "code",
   "execution_count": 21,
   "metadata": {},
   "outputs": [
    {
     "name": "stdout",
     "output_type": "stream",
     "text": [
      "Avg Test Loss: 0.0053, Avg Test Acc: 1.0000\n"
     ]
    }
   ],
   "source": [
    "model.eval()\n",
    "test_loss_per_ep, test_acc_per_ep = [], []\n",
    "for i, batch in enumerate(test_dataloader):\n",
    "    if i >= N_TEST_EPISODES: break\n",
    "\n",
    "    test_loss, test_acc = test_one_episode(model, batch, NUM_CLS, NUM_SAMPLES)\n",
    "    test_loss_per_ep.append(test_loss)\n",
    "    test_acc_per_ep.append(test_acc)\n",
    "\n",
    "print(f\"Avg Test Loss: {np.mean(test_loss_per_ep):.4f}, Avg Test Acc: {np.mean(test_acc_per_ep):.4f}\") "
   ]
  },
  {
   "cell_type": "code",
   "execution_count": 22,
   "metadata": {},
   "outputs": [],
   "source": [
    "# Save model\n",
    "torch.save(model.state_dict(), os.path.join(OUTPUT_DIR, \"model.pt\"))"
   ]
  }
 ],
 "metadata": {
  "kernelspec": {
   "display_name": "Python [conda env:meta-learning-book]",
   "language": "python",
   "name": "conda-env-meta-learning-book-py"
  },
  "language_info": {
   "codemirror_mode": {
    "name": "ipython",
    "version": 3
   },
   "file_extension": ".py",
   "mimetype": "text/x-python",
   "name": "python",
   "nbconvert_exporter": "python",
   "pygments_lexer": "ipython3",
   "version": "3.9.6"
  }
 },
 "nbformat": 4,
 "nbformat_minor": 4
}
