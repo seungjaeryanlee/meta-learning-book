{
 "cells": [
  {
   "cell_type": "markdown",
   "id": "00fd7fa0-1caa-403e-bc63-79f078616f99",
   "metadata": {},
   "source": [
    "# MANN"
   ]
  },
  {
   "cell_type": "markdown",
   "id": "853a9afe-ea06-48ac-9301-5051f2de9d1d",
   "metadata": {},
   "source": [
    "TODO: Use 4 read heads like in Figure 7"
   ]
  },
  {
   "cell_type": "code",
   "execution_count": 1,
   "id": "d9446302-3a8f-46a8-b175-aa1962336848",
   "metadata": {},
   "outputs": [],
   "source": [
    "# Ignore InterpolationMode warnings from torchmeta\n",
    "import warnings\n",
    "warnings.filterwarnings(\"ignore\")"
   ]
  },
  {
   "cell_type": "markdown",
   "id": "ce19aaa2-32e6-45b5-99ec-dccbb20486f3",
   "metadata": {
    "tags": []
   },
   "source": [
    "## Imports"
   ]
  },
  {
   "cell_type": "code",
   "execution_count": 2,
   "id": "f559f694-9efd-40ff-8e78-2cc2e461cf45",
   "metadata": {},
   "outputs": [],
   "source": [
    "import matplotlib.pyplot as plt\n",
    "import numpy as np\n",
    "\n",
    "import torch\n",
    "import torch.nn as nn\n",
    "import torch.optim as optim\n",
    "import torch.nn.functional as F\n",
    "\n",
    "from torchmeta.datasets import Omniglot\n",
    "from torchmeta.transforms import Categorical, ClassSplitter, Rotation\n",
    "from torchvision.transforms import Compose, Resize, ToTensor, InterpolationMode\n",
    "from torchmeta.utils.data import BatchMetaDataLoader"
   ]
  },
  {
   "cell_type": "code",
   "execution_count": 3,
   "id": "0796fcda-b77d-4de7-b393-2a4570afacfe",
   "metadata": {},
   "outputs": [],
   "source": [
    "seed = 42\n",
    "np.random.seed(seed);\n",
    "torch.manual_seed(seed);"
   ]
  },
  {
   "cell_type": "markdown",
   "id": "2735bcef-fec4-4558-92e0-39703e163840",
   "metadata": {
    "tags": [],
    "toc-hr-collapsed": true
   },
   "source": [
    "## Classes"
   ]
  },
  {
   "cell_type": "markdown",
   "id": "1c6dfa0f-69c7-4420-bea4-7c383c1f215a",
   "metadata": {},
   "source": [
    "A Neural Turing Machine (NTM) consists of many parts. We modularize them by creating multiple classes corresponding to each part of the NTM.\n",
    "\n",
    "![NTM Architecture](images/ntm_architecture.png)\n",
    "\n",
    "From Figure 1 of Graves et al. (2014) [[1]](#cite-ntm)"
   ]
  },
  {
   "cell_type": "markdown",
   "id": "3c31727c-482f-4d82-89b5-b14560a3a2f4",
   "metadata": {
    "tags": [],
    "toc-hr-collapsed": true
   },
   "source": [
    "### Memory"
   ]
  },
  {
   "cell_type": "markdown",
   "id": "99ae4bea-7931-4465-bb38-5440201101f6",
   "metadata": {},
   "source": [
    "Let $\\mathbf{M}_t$ be the content of the $N \\times M$ memory matrix at time $t$.\n",
    "- $N$ is the number of memory locations.\n",
    "- $M$ is the vector size of each location.\n",
    "\n",
    "---\n",
    "From Section 3.1 of Graves et al. (2014) [[1]](#cite-ntm)"
   ]
  },
  {
   "cell_type": "code",
   "execution_count": 4,
   "id": "d0db1337-693e-4b4f-8649-5b49ad82087c",
   "metadata": {},
   "outputs": [],
   "source": [
    "class Memory(nn.Module):\n",
    "    def __init__(self, size):\n",
    "        \"\"\"\n",
    "        The memory for the Neural Turing Machine stored as a matrix.\n",
    "\n",
    "        Each batch has its own memory matrix, so the memory's dimension is (batch_size, N, M).\n",
    "\n",
    "        Parameters\n",
    "        ----------\n",
    "        size : tuple\n",
    "            A tuple (N, M) describing the shape of the matrix. N is the number of memory locations and M is the vector size for each location..\n",
    "\n",
    "        Attributes\n",
    "        ----------\n",
    "        matrix : torch.FloatTensor\n",
    "            The memory matrix of shape (batch_size, N, M).\n",
    "        size : tuple\n",
    "            A tuple (N, M) describing the shape of the matrix.\n",
    "        \"\"\"\n",
    "        super(Memory, self).__init__()\n",
    "        self.size = size\n",
    "\n",
    "        # Initialize memory bias\n",
    "        initial_state = torch.ones(self.size) * 1e-6\n",
    "        self.register_buffer('initial_state', initial_state.data)\n",
    "\n",
    "        # Initial read vector is a learnt parameter\n",
    "        self.initial_read = nn.Parameter(torch.randn(1, self.size[1]) * 0.01)\n",
    "\n",
    "    def reset(self, batch_size):\n",
    "        self.matrix = self.initial_state.clone().repeat(batch_size, 1, 1)\n",
    "\n",
    "    def get_initial_read(self, batch_size):\n",
    "        return self.initial_read.clone().repeat(batch_size, 1)\n",
    "\n",
    "    def write(self, w, e, a):\n",
    "        self.matrix = self.matrix * (1 - torch.matmul(w.unsqueeze(-1), e.unsqueeze(1)))\n",
    "        self.matrix = self.matrix + torch.matmul(w.unsqueeze(-1), a.unsqueeze(1))"
   ]
  },
  {
   "cell_type": "markdown",
   "id": "97b0aa9f-aace-4f6a-9733-b903556bdbc3",
   "metadata": {
    "tags": []
   },
   "source": [
    "### Read and Write Heads"
   ]
  },
  {
   "cell_type": "markdown",
   "id": "2db6eddf-d6cd-4740-aef7-22f094dd7835",
   "metadata": {},
   "source": [
    "The weighting $w_t$ used for reading and writing the memory is computed in a complex manner, described in the Figure below.\n",
    "\n",
    "![NTM Weight Calculation](images/ntm_weight_calculation.png)\n",
    "\n",
    "From Figure 2 of Graves et al. (2014) [[1]](#cite-ntm)"
   ]
  },
  {
   "cell_type": "code",
   "execution_count": 5,
   "id": "85f2192c-cd73-4437-af95-f67b7c4c4c09",
   "metadata": {},
   "outputs": [],
   "source": [
    "class Head(nn.Module):\n",
    "    def __init__(self, memory, hidden_size):\n",
    "        super(Head, self).__init__()\n",
    "        self.memory = memory\n",
    "        \n",
    "        # Initialize layers: k, beta, g, s, gamma\n",
    "        self.k_layer = nn.Linear(hidden_size, self.memory.size[1])\n",
    "        self.beta_layer = nn.Linear(hidden_size, 1)\n",
    "        self.g_layer = nn.Linear(hidden_size, 1)\n",
    "        self.s_layer = nn.Linear(hidden_size, 3)\n",
    "        self.gamma_layer = nn.Linear(hidden_size, 1)\n",
    "        for layer in [self.k_layer, self.beta_layer, self.g_layer, self.s_layer, self.gamma_layer]:\n",
    "            nn.init.xavier_uniform_(layer.weight, gain=1.4)\n",
    "            nn.init.normal_(layer.bias, std=0.01)\n",
    "\n",
    "        self._initial_state = nn.Parameter(torch.randn(1, self.memory.size[0]) * 1e-5)\n",
    "\n",
    "    def get_initial_state(self, batch_size):\n",
    "        # Softmax to ensure weights are normalized\n",
    "        return F.softmax(self._initial_state, dim=1).repeat(batch_size, 1)\n",
    "\n",
    "    def get_head_weight(self, x, previous_state, memory_matrix):\n",
    "        # Generate controller outputs\n",
    "        k = self.k_layer(x)\n",
    "        beta = F.softplus(self.beta_layer(x))\n",
    "        g = torch.sigmoid(self.g_layer(x))\n",
    "        s = F.softmax(self.s_layer(x), dim=1)\n",
    "        gamma = 1 + F.softplus(self.gamma_layer(x))\n",
    "\n",
    "        # Focusing by content with k, beta\n",
    "        w_c = F.softmax(beta * F.cosine_similarity(memory_matrix + 1e-16, k.unsqueeze(1) + 1e-16, dim=-1), dim=1)\n",
    "\n",
    "        # Focusing by location with g\n",
    "        w_g = g * w_c + (1 - g) * previous_state\n",
    "\n",
    "        # Run circular convolution with s\n",
    "        w_t = self._shift(w_g, s)\n",
    "        \n",
    "        # Sharpen weighting with gamma\n",
    "        w = w_t ** gamma\n",
    "        w = torch.div(w, torch.sum(w, dim=1).unsqueeze(1) + 1e-16)\n",
    "\n",
    "        return w\n",
    "\n",
    "    def _convolve(self, w, s):\n",
    "        \"\"\"Circular convolution implementation.\"\"\"\n",
    "        assert s.size(0) == 3\n",
    "        t = torch.cat([w[-1:], w, w[:1]], dim=0)\n",
    "        c = F.conv1d(t.view(1, 1, -1), s.view(1, 1, -1)).view(-1)\n",
    "        return c\n",
    "\n",
    "    def _shift(self, w_g, s):\n",
    "        result = w_g.clone()\n",
    "        for b in range(len(w_g)):\n",
    "            result[b] = self._convolve(w_g[b], s[b])\n",
    "        return result"
   ]
  },
  {
   "cell_type": "code",
   "execution_count": 6,
   "id": "15610516-5dad-4e24-ab00-f759690426df",
   "metadata": {},
   "outputs": [],
   "source": [
    "class ReadHead(Head):\n",
    "    def forward(self, x, previous_state):\n",
    "        w = self.get_head_weight(x, previous_state, self.memory.matrix)\n",
    "        return torch.matmul(w.unsqueeze(1), self.memory.matrix).squeeze(1), w"
   ]
  },
  {
   "cell_type": "code",
   "execution_count": 7,
   "id": "af740582-0362-42e4-9084-601ee2796f5f",
   "metadata": {},
   "outputs": [],
   "source": [
    "class WriteHead(Head):\n",
    "    def __init__(self, memory, hidden_size):\n",
    "        super(WriteHead, self).__init__(memory, hidden_size)\n",
    "\n",
    "        # Initialize additional layers: e and a\n",
    "        self.e_layer = nn.Linear(hidden_size, memory.size[1])\n",
    "        self.a_layer = nn.Linear(hidden_size, memory.size[1])\n",
    "        for layer in [self.e_layer, self.a_layer]:\n",
    "            nn.init.xavier_uniform_(layer.weight, gain=1.4)\n",
    "            nn.init.normal_(layer.bias, std=0.01)\n",
    "\n",
    "    def forward(self, x, previous_state):\n",
    "        w = self.get_head_weight(x, previous_state, self.memory.matrix)\n",
    "        e = torch.sigmoid(self.e_layer(x))\n",
    "        a = self.a_layer(x)\n",
    "\n",
    "        self.memory.write(w, e, a)\n",
    "\n",
    "        return w"
   ]
  },
  {
   "cell_type": "markdown",
   "id": "ca1f7af3-7312-4543-aa41-c5a36a2e2075",
   "metadata": {
    "tags": [],
    "toc-hr-collapsed": true
   },
   "source": [
    "### Controllers (FeedForward, LSTM)"
   ]
  },
  {
   "cell_type": "code",
   "execution_count": 8,
   "id": "5d518479-2906-4e54-a1b9-9f7712cc20de",
   "metadata": {},
   "outputs": [],
   "source": [
    "class FeedForwardController(nn.Module):\n",
    "    def __init__(self, input_size, hidden_size):\n",
    "        super(FeedForwardController, self).__init__()\n",
    "        self.layer_1 = nn.Linear(input_size, hidden_size)\n",
    "        self.layer_2 = nn.Linear(hidden_size, hidden_size)\n",
    "        stdev = 5 / (np.sqrt(input_size + hidden_size))\n",
    "        nn.init.uniform_(self.layer_1.weight, -stdev, stdev)\n",
    "        nn.init.uniform_(self.layer_2.weight, -stdev, stdev)\n",
    "\n",
    "    def forward(self, x, state):\n",
    "        x1 = F.relu(self.layer_1(x))\n",
    "        output = F.relu(self.layer_2(x1))\n",
    "        return output, state\n",
    "\n",
    "    def get_initial_state(self):\n",
    "        return 0, 0"
   ]
  },
  {
   "cell_type": "code",
   "execution_count": 9,
   "id": "f1edc450-259b-4178-8903-d339ddc147f3",
   "metadata": {},
   "outputs": [],
   "source": [
    "class LSTMController(nn.Module):\n",
    "    def __init__(self, input_size, hidden_size):\n",
    "        super(LSTMController, self).__init__()\n",
    "        self.layer = nn.LSTM(input_size=input_size, hidden_size=hidden_size)\n",
    "        # The hidden state is a learned parameter\n",
    "        self.lstm_h_state = nn.Parameter(torch.randn(1, 1, hidden_size) * 0.05)\n",
    "        self.lstm_c_state = nn.Parameter(torch.randn(1, 1, hidden_size) * 0.05)\n",
    "        for p in self.layer.parameters():\n",
    "            if p.dim() == 1:\n",
    "                nn.init.constant_(p, 0)\n",
    "            else:\n",
    "                stdev = 5 / (np.sqrt(input_size + hidden_size))\n",
    "                nn.init.uniform_(p, -stdev, stdev)\n",
    "\n",
    "    def forward(self, x, state):\n",
    "        output, state = self.layer(x.unsqueeze(0), state)\n",
    "        return output.squeeze(0), state\n",
    "\n",
    "    def get_initial_state(self, batch_size):\n",
    "        lstm_h = self.lstm_h_state.clone().repeat(1, batch_size, 1)\n",
    "        lstm_c = self.lstm_c_state.clone().repeat(1, batch_size, 1)\n",
    "        return lstm_h, lstm_c"
   ]
  },
  {
   "cell_type": "markdown",
   "id": "57b95768-a1ba-4844-af66-77c2d2b5b3fd",
   "metadata": {
    "tags": [],
    "toc-hr-collapsed": true
   },
   "source": [
    "### Neural Turing Machine\n",
    "\n",
    "This is just the entire architecture encapsulated into a single module."
   ]
  },
  {
   "cell_type": "code",
   "execution_count": 10,
   "id": "a63ff5c2-63fb-405e-bcc1-3f83b4458f4d",
   "metadata": {},
   "outputs": [],
   "source": [
    "class NTM(nn.Module):\n",
    "    def __init__(self, input_size, hidden_size, memory_size, lstm_controller=True):\n",
    "        super(NTM, self).__init__()\n",
    "        Controller = LSTMController if lstm_controller else FeedForwardController\n",
    "        controller_input_size = input_size + memory_size[1]\n",
    "        self.controller = Controller(controller_input_size, hidden_size)\n",
    "        self.memory = Memory(memory_size)\n",
    "        self.read_head = ReadHead(self.memory, hidden_size)\n",
    "        self.write_head = WriteHead(self.memory, hidden_size)\n",
    "        self.fc = nn.Linear(hidden_size + memory_size[1], 5)\n",
    "        nn.init.xavier_uniform_(self.fc.weight, gain=1)\n",
    "        nn.init.normal_(self.fc.bias, std=0.01)\n",
    "\n",
    "    def get_initial_state(self, batch_size):\n",
    "        self.memory.reset(batch_size)\n",
    "        controller_state = self.controller.get_initial_state(batch_size)\n",
    "        read = self.memory.get_initial_read(batch_size)\n",
    "        read_head_state = self.read_head.get_initial_state(batch_size)\n",
    "        write_head_state = self.write_head.get_initial_state(batch_size)\n",
    "\n",
    "        return (read, read_head_state, write_head_state, controller_state)\n",
    "\n",
    "    def forward(self, x, previous_state):\n",
    "        previous_read, previous_read_head_state, previous_write_head_state, previous_controller_state = previous_state\n",
    "        controller_input = torch.cat([x, previous_read], dim=1)\n",
    "        controller_output, controller_state = self.controller(controller_input, previous_controller_state)\n",
    "        read_head_output, read_head_state = self.read_head(controller_output, previous_read_head_state)\n",
    "        write_head_state = self.write_head(controller_output, previous_write_head_state)\n",
    "        fc_input = torch.cat((controller_output, read_head_output), dim=1)\n",
    "        state = (read_head_output, read_head_state, write_head_state, controller_state)\n",
    "\n",
    "        return F.softmax(self.fc(fc_input), dim=1), state"
   ]
  },
  {
   "cell_type": "markdown",
   "id": "fcf91f2c-dce5-43e7-92fd-427e84792416",
   "metadata": {
    "tags": []
   },
   "source": [
    "## Hyperparameters"
   ]
  },
  {
   "cell_type": "markdown",
   "id": "b3bce138-42ca-45a6-9aab-6ee4dcd0dc61",
   "metadata": {
    "tags": []
   },
   "source": [
    "### Omniglot Hyperparameters"
   ]
  },
  {
   "cell_type": "code",
   "execution_count": 11,
   "id": "c1072fc0-3814-4029-ab18-0a652b5c2f35",
   "metadata": {},
   "outputs": [],
   "source": [
    "# Number of classes\n",
    "N_WAY = 5\n",
    "# Number of images per class\n",
    "N_SHOT = 1\n",
    "# Size of the Omniglot image\n",
    "IMAGE_SIZE = 20"
   ]
  },
  {
   "cell_type": "markdown",
   "id": "2a62af35-1abd-4cc0-9844-923829a7ae15",
   "metadata": {},
   "source": [
    "![Hyperparameters](images/hyperparameters.png)\n",
    "\n",
    "From Section 9 of Santoro et al. (2016) [[2]](#cite-one-shot-mann)"
   ]
  },
  {
   "cell_type": "code",
   "execution_count": 12,
   "id": "984cb701-0b6f-46e3-8121-bb1fdb4ec1a5",
   "metadata": {},
   "outputs": [],
   "source": [
    "# Optimizer hyperparameters\n",
    "RMSPROP_LR = 1e-4\n",
    "RMSPROP_DECAY = 0.95\n",
    "RMSPROP_MOMENTUM = 0.9"
   ]
  },
  {
   "cell_type": "code",
   "execution_count": 13,
   "id": "802cc9a5-5f2f-4e08-b48d-270fed9d6ba2",
   "metadata": {},
   "outputs": [],
   "source": [
    "# Memory slots and size\n",
    "MEMORY_SIZE = (128, 40)\n",
    "# Number of hidden units in LSTM\n",
    "HIDDEN_LAYER_SIZE = 200\n",
    "# Size of a minibatch\n",
    "TRAIN_BATCH_SIZE = 16\n",
    "VAL_BATCH_SIZE = 16\n",
    "TEST_BATCH_SIZE = 16\n",
    "\n",
    "USE_LSTM_CONTROLLER = True\n",
    "N_EPISODES = 1000\n",
    "N_TEST_EPISODES = 100"
   ]
  },
  {
   "cell_type": "markdown",
   "id": "b8e6c566-0a0b-4de0-a224-c5ed62ff3c93",
   "metadata": {
    "tags": []
   },
   "source": [
    "## Omniglot"
   ]
  },
  {
   "cell_type": "markdown",
   "id": "b9c5f729-fbc7-47ba-9d0b-89fd5156f4af",
   "metadata": {},
   "source": [
    "To test our MANN implementation, we use the Omniglot dataset [[3]](#cite-omniglot). It is a very simple dataset for evaluating meta-learning algorithms.\n",
    "\n",
    "We augment the data by rotating the characters 90, 180, and 270 degrees following Santoro et al. (2016) [[2]](#cite-one-shot-mann)."
   ]
  },
  {
   "cell_type": "code",
   "execution_count": 14,
   "id": "00894455-5ffa-41ea-9ba1-0d983977a020",
   "metadata": {},
   "outputs": [],
   "source": [
    "train_dataset = Omniglot(\n",
    "    \"data\",\n",
    "    num_classes_per_task=N_WAY,\n",
    "    transform=Compose([Resize(IMAGE_SIZE), ToTensor()]),\n",
    "    target_transform=Categorical(num_classes=N_WAY),\n",
    "    class_augmentations=[Rotation([90, 180, 270])],\n",
    "    meta_train=True,\n",
    "    download=True,\n",
    ")\n",
    "train_dataset = ClassSplitter(train_dataset, shuffle=True, num_train_per_class=N_SHOT, num_test_per_class=N_SHOT)\n",
    "train_dataloader = BatchMetaDataLoader(train_dataset, batch_size=TRAIN_BATCH_SIZE, num_workers=4)"
   ]
  },
  {
   "cell_type": "code",
   "execution_count": 15,
   "id": "6ea27c92-da8c-4270-8e48-d45bb19deda3",
   "metadata": {},
   "outputs": [],
   "source": [
    "val_dataset = Omniglot(\n",
    "    \"data\",\n",
    "    num_classes_per_task=N_WAY,\n",
    "    transform=Compose([Resize(IMAGE_SIZE), ToTensor()]),\n",
    "    target_transform=Categorical(num_classes=N_WAY),\n",
    "    class_augmentations=[Rotation([90, 180, 270])], # TODO: Should this be in meta-val and meta-test or no?\n",
    "    meta_val=True,\n",
    "    download=True,\n",
    ")\n",
    "val_dataset = ClassSplitter(val_dataset, shuffle=True, num_train_per_class=N_SHOT, num_test_per_class=N_SHOT)\n",
    "val_dataloader = BatchMetaDataLoader(val_dataset, batch_size=VAL_BATCH_SIZE, num_workers=4)"
   ]
  },
  {
   "cell_type": "code",
   "execution_count": 16,
   "id": "ff82af20-6016-4a81-b18b-1de9678921ab",
   "metadata": {},
   "outputs": [],
   "source": [
    "test_dataset = Omniglot(\n",
    "    \"data\",\n",
    "    num_classes_per_task=N_WAY,\n",
    "    transform=Compose([Resize(IMAGE_SIZE), ToTensor()]),\n",
    "    target_transform=Categorical(num_classes=N_WAY),\n",
    "    class_augmentations=[Rotation([90, 180, 270])], # TODO: Should this be in meta-val and meta-test or no?\n",
    "    meta_test=True,\n",
    "    download=True,\n",
    ")\n",
    "test_dataset = ClassSplitter(test_dataset, shuffle=True, num_train_per_class=N_SHOT, num_test_per_class=N_SHOT)\n",
    "test_dataloader = BatchMetaDataLoader(test_dataset, batch_size=TEST_BATCH_SIZE, num_workers=4)"
   ]
  },
  {
   "cell_type": "markdown",
   "id": "62c7ec01-876f-48e9-80ac-18f96fb0ad49",
   "metadata": {},
   "source": [
    "The input to the LSTM is the flattened image concatenated with time-offset one-hot class labels.\n",
    "\n",
    "![Task Setup](images/santoro_task_setup.png)\n",
    "\n",
    "From Figure 1 of Santoro et al. (2016) [[2]](#cite-one-shot-mann)"
   ]
  },
  {
   "cell_type": "code",
   "execution_count": 17,
   "id": "61ab82b7-7bb9-4b9e-a647-aebed4655e25",
   "metadata": {},
   "outputs": [],
   "source": [
    "def generate_sequence(inputs, targets, N_WAY):\n",
    "    X = inputs.flatten(2, 4)\n",
    "    y = F.one_hot(targets, num_classes=N_WAY)\n",
    "    y = torch.cat((torch.zeros(y.shape[0], 1, y.shape[2]), y), dim=1)[:, :-1, :]\n",
    "    seq = torch.cat((X, y), dim=2)\n",
    "    seq = torch.swapaxes(seq, 0, 1)\n",
    "\n",
    "    # Shape: (seq_len, batch, n_features)\n",
    "    return seq"
   ]
  },
  {
   "cell_type": "code",
   "execution_count": 18,
   "id": "4d63a89b-cc60-450e-9b8c-559f9973deb0",
   "metadata": {},
   "outputs": [],
   "source": [
    "def generate_sequence_v2(batch, N_WAY):\n",
    "    train_inputs, train_targets = batch[\"train\"]\n",
    "    test_inputs, test_targets = batch[\"test\"]\n",
    "\n",
    "    # NOTE: Shuffle the test set so train and test targets are not in the same order\n",
    "    random_indices = torch.randperm(5)\n",
    "    test_inputs = test_inputs[:, random_indices, :, :, :] # Shape (batch_size, n_images, n_channels, n_height, n_width)\n",
    "    test_targets = test_targets[:, random_indices] # Shape (batch_size, n_images)\n",
    "\n",
    "    train_seq = generate_sequence(train_inputs, train_targets, N_WAY)\n",
    "    test_seq = generate_sequence(test_inputs, test_targets, N_WAY)\n",
    "\n",
    "    targets = torch.cat((train_targets, test_targets), dim=1)\n",
    "\n",
    "    return torch.cat((train_seq, test_seq), dim=0), targets"
   ]
  },
  {
   "cell_type": "markdown",
   "id": "4d6ea74e-20bd-4c28-9084-a18d15d0a409",
   "metadata": {
    "tags": []
   },
   "source": [
    "## Model"
   ]
  },
  {
   "cell_type": "code",
   "execution_count": 19,
   "id": "9d888660-cf17-4671-a3be-5d14b0f08c47",
   "metadata": {},
   "outputs": [],
   "source": [
    "INPUT_SIZE = IMAGE_SIZE*IMAGE_SIZE + N_WAY\n",
    "model = NTM(INPUT_SIZE, HIDDEN_LAYER_SIZE, MEMORY_SIZE, USE_LSTM_CONTROLLER)\n",
    "optimizer = optim.RMSprop(model.parameters(), momentum=RMSPROP_MOMENTUM, alpha=RMSPROP_DECAY, lr=RMSPROP_LR)"
   ]
  },
  {
   "cell_type": "markdown",
   "id": "c45d06d7-3bb7-4efb-863b-22dac4a969b0",
   "metadata": {
    "tags": []
   },
   "source": [
    "## Loop"
   ]
  },
  {
   "cell_type": "code",
   "execution_count": 20,
   "id": "fc2b369e-2416-4908-a7c3-27f1ded0ada3",
   "metadata": {},
   "outputs": [],
   "source": [
    "def train_one_episode(batch, optimizer, BATCH_SIZE, N_WAY):\n",
    "    seq, targets = generate_sequence_v2(batch, N_WAY)\n",
    "\n",
    "    optimizer.zero_grad()\n",
    "    state = model.get_initial_state(BATCH_SIZE)\n",
    "    probabilities = torch.zeros((len(seq), BATCH_SIZE, N_WAY))\n",
    "    for j, vector in enumerate(seq):\n",
    "        probabilities[j], state = model(vector, state)\n",
    "    probabilities = probabilities.permute(1, 2, 0)\n",
    "    loss = F.cross_entropy(probabilities, targets)\n",
    "    loss.backward()\n",
    "    optimizer.step()\n",
    "    # TODO: 5 should be replaced with half of shape[2]\n",
    "    correct = torch.sum(probabilities[..., -5:].argmax(dim=1) == targets[..., -5:])\n",
    "    acc = correct.item() / np.prod(targets[..., -5:].size())\n",
    "\n",
    "    return loss.item(), acc"
   ]
  },
  {
   "cell_type": "code",
   "execution_count": 21,
   "id": "96addff1-66eb-4201-8291-7fa7aed2751d",
   "metadata": {},
   "outputs": [],
   "source": [
    "def test_one_episode(batch, BATCH_SIZE, N_WAY):\n",
    "    seq, targets = generate_sequence_v2(batch, N_WAY)\n",
    "\n",
    "    state = model.get_initial_state(BATCH_SIZE)\n",
    "    probabilities = torch.zeros((len(seq), BATCH_SIZE, N_WAY))\n",
    "    for j, vector in enumerate(seq):\n",
    "        probabilities[j], state = model(vector, state)\n",
    "    probabilities = probabilities.permute(1, 2, 0)\n",
    "    loss = F.cross_entropy(probabilities, targets)\n",
    "\n",
    "    # TODO: 5 should be replaced with half of shape[2]\n",
    "    correct = torch.sum(probabilities[..., -5:].argmax(dim=1) == targets[..., -5:])\n",
    "    acc = correct.item() / np.prod(targets[..., -5:].size())\n",
    "\n",
    "    return loss.item(), acc"
   ]
  },
  {
   "cell_type": "code",
   "execution_count": 22,
   "id": "5e8e365b-870d-4634-933e-94d50ca60f0c",
   "metadata": {},
   "outputs": [
    {
     "name": "stdout",
     "output_type": "stream",
     "text": [
      "| EPISODE |   META-TRAIN    |    META-VAL     |\n",
      "|         | LOSS   |  ACC   |  LOSS  |  ACC   |\n",
      "|       0 | 1.6118 | 0.1375 | 1.6103 | 0.2000 |\n",
      "|     100 | 1.5323 | 0.3000 | 1.5132 | 0.4125 |\n",
      "|     200 | 1.4327 | 0.5125 | 1.4494 | 0.4500 |\n",
      "|     300 | 1.4698 | 0.3000 | 1.4726 | 0.3125 |\n",
      "|     400 | 1.4143 | 0.5125 | 1.3937 | 0.5375 |\n",
      "|     500 | 1.4012 | 0.4500 | 1.4667 | 0.3000 |\n",
      "|     600 | 1.4221 | 0.4125 | 1.4341 | 0.3625 |\n",
      "|     700 | 1.4107 | 0.4875 | 1.4003 | 0.4750 |\n",
      "|     800 | 1.4082 | 0.4375 | 1.3914 | 0.4750 |\n",
      "|     900 | 1.4224 | 0.4250 | 1.3575 | 0.5875 |\n",
      "|    1000 | 1.3841 | 0.5125 | 1.3864 | 0.5625 |\n"
     ]
    }
   ],
   "source": [
    "print(\"| EPISODE |   META-TRAIN    |    META-VAL     |\")\n",
    "print(\"|         | LOSS   |  ACC   |  LOSS  |  ACC   |\")\n",
    "train_loss_per_ep, train_acc_per_ep = [], []\n",
    "val_loss_per_ep, val_acc_per_ep = [], []\n",
    "for episode_i, (train_batch, val_batch) in enumerate(zip(train_dataloader, val_dataloader)):\n",
    "    if episode_i > N_EPISODES: break\n",
    "\n",
    "    # Train\n",
    "    train_loss, train_acc = train_one_episode(train_batch, optimizer, TRAIN_BATCH_SIZE, N_WAY)\n",
    "    train_loss_per_ep.append(train_loss)\n",
    "    train_acc_per_ep.append(train_acc)\n",
    "\n",
    "    # Validation\n",
    "    val_loss, val_acc = test_one_episode(val_batch, VAL_BATCH_SIZE, N_WAY)\n",
    "    val_loss_per_ep.append(val_loss)\n",
    "    val_acc_per_ep.append(val_acc)\n",
    "\n",
    "    if episode_i % 100 == 0:\n",
    "        print(f\"| {episode_i:7d} | {train_loss:.4f} | {train_acc:.4f} | {val_loss:.4f} | {val_acc:.4f} |\")"
   ]
  },
  {
   "cell_type": "code",
   "execution_count": 23,
   "id": "20b418e7-524f-4292-b3dc-25b1659a49f0",
   "metadata": {},
   "outputs": [
    {
     "data": {
      "image/png": "[encoded data removed]",
      "text/plain": [
       "<Figure size 1008x432 with 2 Axes>"
      ]
     },
     "metadata": {
      "needs_background": "light"
     },
     "output_type": "display_data"
    }
   ],
   "source": [
    "fig, axs = plt.subplots(1, 2, figsize=(14, 6))\n",
    "\n",
    "axs[0].plot(train_loss_per_ep, label=\"train_loss\")\n",
    "axs[0].plot(val_loss_per_ep, label=\"test_loss\")\n",
    "axs[0].set_title(\"Cross Entropy Loss\")\n",
    "axs[0].legend()\n",
    "\n",
    "axs[1].plot(train_acc_per_ep, label=\"train_acc\")\n",
    "axs[1].plot(val_acc_per_ep, label=\"test_acc\")\n",
    "axs[1].set_title(\"Accuracy\")\n",
    "axs[1].legend()\n",
    "\n",
    "fig.show()"
   ]
  },
  {
   "cell_type": "code",
   "execution_count": 24,
   "id": "5abc38ef-d77e-4d3d-9e53-6cd24ac4fb73",
   "metadata": {},
   "outputs": [
    {
     "name": "stdout",
     "output_type": "stream",
     "text": [
      "Avg Test Loss: 1.4110, Avg Test Acc: 0.4394\n"
     ]
    }
   ],
   "source": [
    "test_loss_per_ep, test_acc_per_ep = [], []\n",
    "for episode_i, test_batch in enumerate(test_dataloader):\n",
    "    if episode_i > N_TEST_EPISODES: break\n",
    "\n",
    "    # Test\n",
    "    test_loss, test_acc = test_one_episode(test_batch, TEST_BATCH_SIZE, N_WAY)\n",
    "    test_loss_per_ep.append(test_loss)\n",
    "    test_acc_per_ep.append(test_acc)\n",
    "\n",
    "print(f\"Avg Test Loss: {np.mean(test_loss_per_ep):.4f}, Avg Test Acc: {np.mean(test_acc_per_ep):.4f}\") "
   ]
  },
  {
   "cell_type": "markdown",
   "id": "174d8a61-53ce-4a47-827b-0786fa8e1526",
   "metadata": {},
   "source": [
    "![MANN Accuracy](images/mann_accuracy.png)"
   ]
  },
  {
   "cell_type": "markdown",
   "id": "2ee59f8d-c83e-49f0-80d1-589e29b4e769",
   "metadata": {},
   "source": [
    "## References"
   ]
  },
  {
   "cell_type": "markdown",
   "id": "5bf8ec81-db82-4d8a-8e40-c5185bbae9e9",
   "metadata": {},
   "source": [
    "<span id=\"cite-ntm\"></span>\n",
    "[1] Graves, A., Wayne, G., & Danihelka, I. (2014). Neural turing machines. *arXiv preprint arXiv:1410.5401.*"
   ]
  },
  {
   "cell_type": "markdown",
   "id": "16d4ceb1-ac76-4b57-b657-2fede5bbb075",
   "metadata": {},
   "source": [
    "<span id=\"cite-one-shot-mann\"></span>\n",
    "[2] Santoro, A., Bartunov, S., Botvinick, M., Wierstra, D., & Lillicrap, T. (2016). One-shot learning with memory-augmented neural networks. *arXiv preprint arXiv:1605.06065.*"
   ]
  },
  {
   "cell_type": "markdown",
   "id": "499c74b4-0ce6-4330-92ba-7262cb12ab42",
   "metadata": {},
   "source": [
    "<span id=\"cite-omniglot\"></span>\n",
    "[3] Lake, B. M., Salakhutdinov, R., & Tenenbaum, J. B. (2015). Human-level concept learning through probabilistic program induction. *Science, 350*(6266), 1332-1338."
   ]
  }
 ],
 "metadata": {
  "kernelspec": {
   "display_name": "Python [conda env:meta-learning-book]",
   "language": "python",
   "name": "conda-env-meta-learning-book-py"
  },
  "language_info": {
   "codemirror_mode": {
    "name": "ipython",
    "version": 3
   },
   "file_extension": ".py",
   "mimetype": "text/x-python",
   "name": "python",
   "nbconvert_exporter": "python",
   "pygments_lexer": "ipython3",
   "version": "3.9.5"
  }
 },
 "nbformat": 4,
 "nbformat_minor": 5
}
